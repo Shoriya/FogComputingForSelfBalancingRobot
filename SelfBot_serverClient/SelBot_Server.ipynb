{
 "cells": [
  {
   "cell_type": "code",
   "execution_count": null,
   "metadata": {},
   "outputs": [],
   "source": [
    "import socket\n",
    "import struct"
   ]
  },
  {
   "cell_type": "code",
   "execution_count": null,
   "metadata": {},
   "outputs": [],
   "source": [
    "with socket.socket(socket.AF_INET,socket.SOCK_STREAM) as s:    \n",
    "    s.bind(('0.0.0.0', 8091))\n",
    "\n",
    "    s.listen(0)\n",
    "    while True:\n",
    "        client, addr = s.accept()\n",
    "        while True:\n",
    "            \n",
    "            content = client.recv(6)\n",
    "            b = float(content) \n",
    "            b = b + 29.60\n",
    "            #if len(content) == 0:\n",
    "             #   break\n",
    "            #else:\n",
    "            print(b)\n",
    "                \n",
    "        #print(\"Closing connection\")\n",
    "        #client.close()\n",
    "        #message=108.25\n",
    "        #sendingdata= str(message)\n",
    "        #s.send((bytearray(sendingdata, 'utf-8')))\n",
    "    #content = client.recv(1024)\n",
    "    #print(content)\n",
    "#s.close()"
   ]
  },
  {
   "cell_type": "code",
   "execution_count": null,
   "metadata": {},
   "outputs": [],
   "source": []
  }
 ],
 "metadata": {
  "kernelspec": {
   "display_name": "Python 3",
   "language": "python",
   "name": "python3"
  },
  "language_info": {
   "codemirror_mode": {
    "name": "ipython",
    "version": 3
   },
   "file_extension": ".py",
   "mimetype": "text/x-python",
   "name": "python",
   "nbconvert_exporter": "python",
   "pygments_lexer": "ipython3",
   "version": "3.7.6"
  }
 },
 "nbformat": 4,
 "nbformat_minor": 4
}
